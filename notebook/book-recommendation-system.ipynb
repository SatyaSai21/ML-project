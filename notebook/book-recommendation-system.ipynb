{
 "cells": [
  {
   "cell_type": "code",
   "execution_count": 5,
   "id": "b47ef6b9",
   "metadata": {},
   "outputs": [],
   "source": [
    "import pandas as pd\n",
    "import numpy as np\n",
    "import matplotlib.pyplot as plt\n",
    "import seaborn as sns\n",
    "import warnings\n",
    "warnings.filterwarnings('ignore')"
   ]
  },
  {
   "cell_type": "code",
   "execution_count": 6,
   "id": "58bbb8d8",
   "metadata": {},
   "outputs": [],
   "source": [
    "books=pd.read_csv('data/Books.csv')\n",
    "users=pd.read_csv('data/Users.csv')\n",
    "ratings=pd.read_csv('data/Ratings.csv')"
   ]
  },
  {
   "cell_type": "code",
   "execution_count": 7,
   "id": "7e6424b4",
   "metadata": {},
   "outputs": [
    {
     "data": {
      "text/plain": [
       "'http://images.amazon.com/images/P/0002005018.01.MZZZZZZZ.jpg'"
      ]
     },
     "execution_count": 7,
     "metadata": {},
     "output_type": "execute_result"
    }
   ],
   "source": [
    "books['Image-URL-M'][1] # M -------> Medium size image of book"
   ]
  },
  {
   "cell_type": "code",
   "execution_count": 8,
   "id": "824eec34",
   "metadata": {},
   "outputs": [
    {
     "data": {
      "text/html": [
       "<div>\n",
       "<style scoped>\n",
       "    .dataframe tbody tr th:only-of-type {\n",
       "        vertical-align: middle;\n",
       "    }\n",
       "\n",
       "    .dataframe tbody tr th {\n",
       "        vertical-align: top;\n",
       "    }\n",
       "\n",
       "    .dataframe thead th {\n",
       "        text-align: right;\n",
       "    }\n",
       "</style>\n",
       "<table border=\"1\" class=\"dataframe\">\n",
       "  <thead>\n",
       "    <tr style=\"text-align: right;\">\n",
       "      <th></th>\n",
       "      <th>ISBN</th>\n",
       "      <th>Book-Title</th>\n",
       "      <th>Book-Author</th>\n",
       "      <th>Year-Of-Publication</th>\n",
       "      <th>Publisher</th>\n",
       "      <th>Image-URL-S</th>\n",
       "      <th>Image-URL-M</th>\n",
       "      <th>Image-URL-L</th>\n",
       "    </tr>\n",
       "  </thead>\n",
       "  <tbody>\n",
       "    <tr>\n",
       "      <th>156986</th>\n",
       "      <td>0807068691</td>\n",
       "      <td>Poems to Live By : In Uncertain Times</td>\n",
       "      <td>Joan Murray</td>\n",
       "      <td>2001</td>\n",
       "      <td>Beacon Press</td>\n",
       "      <td>http://images.amazon.com/images/P/0807068691.0...</td>\n",
       "      <td>http://images.amazon.com/images/P/0807068691.0...</td>\n",
       "      <td>http://images.amazon.com/images/P/0807068691.0...</td>\n",
       "    </tr>\n",
       "  </tbody>\n",
       "</table>\n",
       "</div>"
      ],
      "text/plain": [
       "              ISBN                             Book-Title  Book-Author  \\\n",
       "156986  0807068691  Poems to Live By : In Uncertain Times  Joan Murray   \n",
       "\n",
       "       Year-Of-Publication     Publisher  \\\n",
       "156986                2001  Beacon Press   \n",
       "\n",
       "                                              Image-URL-S  \\\n",
       "156986  http://images.amazon.com/images/P/0807068691.0...   \n",
       "\n",
       "                                              Image-URL-M  \\\n",
       "156986  http://images.amazon.com/images/P/0807068691.0...   \n",
       "\n",
       "                                              Image-URL-L  \n",
       "156986  http://images.amazon.com/images/P/0807068691.0...  "
      ]
     },
     "execution_count": 8,
     "metadata": {},
     "output_type": "execute_result"
    }
   ],
   "source": [
    "books.sample(n=1)"
   ]
  },
  {
   "cell_type": "code",
   "execution_count": 9,
   "id": "fa23417f",
   "metadata": {},
   "outputs": [
    {
     "data": {
      "text/html": [
       "<div>\n",
       "<style scoped>\n",
       "    .dataframe tbody tr th:only-of-type {\n",
       "        vertical-align: middle;\n",
       "    }\n",
       "\n",
       "    .dataframe tbody tr th {\n",
       "        vertical-align: top;\n",
       "    }\n",
       "\n",
       "    .dataframe thead th {\n",
       "        text-align: right;\n",
       "    }\n",
       "</style>\n",
       "<table border=\"1\" class=\"dataframe\">\n",
       "  <thead>\n",
       "    <tr style=\"text-align: right;\">\n",
       "      <th></th>\n",
       "      <th>User-ID</th>\n",
       "      <th>Location</th>\n",
       "      <th>Age</th>\n",
       "    </tr>\n",
       "  </thead>\n",
       "  <tbody>\n",
       "    <tr>\n",
       "      <th>83990</th>\n",
       "      <td>83991</td>\n",
       "      <td>roma, n/a, italy</td>\n",
       "      <td>NaN</td>\n",
       "    </tr>\n",
       "  </tbody>\n",
       "</table>\n",
       "</div>"
      ],
      "text/plain": [
       "       User-ID          Location  Age\n",
       "83990    83991  roma, n/a, italy  NaN"
      ]
     },
     "execution_count": 9,
     "metadata": {},
     "output_type": "execute_result"
    }
   ],
   "source": [
    "users.sample(n=1)"
   ]
  },
  {
   "cell_type": "code",
   "execution_count": 10,
   "id": "a7e5b5e7",
   "metadata": {},
   "outputs": [
    {
     "data": {
      "text/html": [
       "<div>\n",
       "<style scoped>\n",
       "    .dataframe tbody tr th:only-of-type {\n",
       "        vertical-align: middle;\n",
       "    }\n",
       "\n",
       "    .dataframe tbody tr th {\n",
       "        vertical-align: top;\n",
       "    }\n",
       "\n",
       "    .dataframe thead th {\n",
       "        text-align: right;\n",
       "    }\n",
       "</style>\n",
       "<table border=\"1\" class=\"dataframe\">\n",
       "  <thead>\n",
       "    <tr style=\"text-align: right;\">\n",
       "      <th></th>\n",
       "      <th>User-ID</th>\n",
       "      <th>ISBN</th>\n",
       "      <th>Book-Rating</th>\n",
       "    </tr>\n",
       "  </thead>\n",
       "  <tbody>\n",
       "    <tr>\n",
       "      <th>165996</th>\n",
       "      <td>36606</td>\n",
       "      <td>0618012672</td>\n",
       "      <td>0</td>\n",
       "    </tr>\n",
       "  </tbody>\n",
       "</table>\n",
       "</div>"
      ],
      "text/plain": [
       "        User-ID        ISBN  Book-Rating\n",
       "165996    36606  0618012672            0"
      ]
     },
     "execution_count": 10,
     "metadata": {},
     "output_type": "execute_result"
    }
   ],
   "source": [
    "ratings.sample(n=1)"
   ]
  },
  {
   "cell_type": "code",
   "execution_count": 11,
   "id": "7c23a444",
   "metadata": {},
   "outputs": [
    {
     "name": "stdout",
     "output_type": "stream",
     "text": [
      "Shape of Users = (278858, 3)\n",
      "Shape of Books = (271360, 8)\n",
      "Shape of Ratings = (1149780, 3)\n"
     ]
    }
   ],
   "source": [
    "print(\"Shape of Users = {}\".format(users.shape))\n",
    "print(\"Shape of Books = {}\".format(books.shape))\n",
    "print(\"Shape of Ratings = {}\".format(ratings.shape))"
   ]
  },
  {
   "cell_type": "markdown",
   "id": "13c3f47d",
   "metadata": {},
   "source": [
    "# HANDLING MISSING VALUES"
   ]
  },
  {
   "cell_type": "code",
   "execution_count": 12,
   "id": "6be30169",
   "metadata": {},
   "outputs": [
    {
     "data": {
      "text/plain": [
       "ISBN                   0\n",
       "Book-Title             0\n",
       "Book-Author            2\n",
       "Year-Of-Publication    0\n",
       "Publisher              2\n",
       "Image-URL-S            0\n",
       "Image-URL-M            0\n",
       "Image-URL-L            3\n",
       "dtype: int64"
      ]
     },
     "execution_count": 12,
     "metadata": {},
     "output_type": "execute_result"
    }
   ],
   "source": [
    "books.isnull().sum()"
   ]
  },
  {
   "cell_type": "code",
   "execution_count": 13,
   "id": "a2468d2f",
   "metadata": {},
   "outputs": [
    {
     "data": {
      "text/plain": [
       "User-ID          0\n",
       "Location         0\n",
       "Age         110762\n",
       "dtype: int64"
      ]
     },
     "execution_count": 13,
     "metadata": {},
     "output_type": "execute_result"
    }
   ],
   "source": [
    "users.isna().sum() #Age is not important in our model"
   ]
  },
  {
   "cell_type": "code",
   "execution_count": 14,
   "id": "03bfc2b3",
   "metadata": {},
   "outputs": [
    {
     "data": {
      "text/plain": [
       "User-ID        0\n",
       "ISBN           0\n",
       "Book-Rating    0\n",
       "dtype: int64"
      ]
     },
     "execution_count": 14,
     "metadata": {},
     "output_type": "execute_result"
    }
   ],
   "source": [
    "(~ratings.notna()).sum()"
   ]
  },
  {
   "cell_type": "markdown",
   "id": "fdb9205a",
   "metadata": {
    "scrolled": true
   },
   "source": [
    "# Converting to integer As well as Handling the \"Year of Publication \" feature as it contains some non numeric values."
   ]
  },
  {
   "cell_type": "code",
   "execution_count": 15,
   "id": "5d1c5e6b",
   "metadata": {},
   "outputs": [
    {
     "data": {
      "text/plain": [
       "Index(['DK Publishing Inc', 'Gallimard'], dtype='object', name='Year-Of-Publication')"
      ]
     },
     "execution_count": 15,
     "metadata": {},
     "output_type": "execute_result"
    }
   ],
   "source": [
    "books[\"Year-Of-Publication\"].value_counts().index[pd.to_numeric(books[\"Year-Of-Publication\"].value_counts().index,errors='coerce',downcast='integer').isna()]#[(pd.to_numeric(books[\"Year-Of-Publication\"].value_counts(),errors='coerce').isnull())]"
   ]
  },
  {
   "cell_type": "code",
   "execution_count": 17,
   "id": "ace62804",
   "metadata": {},
   "outputs": [
    {
     "data": {
      "text/plain": [
       "Year-Of-Publication\n",
       "DK Publishing Inc    2\n",
       "Gallimard            1\n",
       "Name: count, dtype: int64"
      ]
     },
     "execution_count": 17,
     "metadata": {},
     "output_type": "execute_result"
    }
   ],
   "source": [
    "books[\"Year-Of-Publication\"].value_counts()[(books[\"Year-Of-Publication\"].value_counts().index == 'Gallimard') | (books[\"Year-Of-Publication\"].value_counts().index == 'DK Publishing Inc')]#in ['DK Publishing Inc','Gallimard']"
   ]
  },
  {
   "cell_type": "code",
   "execution_count": 19,
   "id": "c3cf1afe",
   "metadata": {},
   "outputs": [],
   "source": [
    "books[\"Year-Of-Publication\"]=(pd.to_numeric(books[\"Year-Of-Publication\"],errors='coerce',downcast='integer'))"
   ]
  },
  {
   "cell_type": "code",
   "execution_count": 20,
   "id": "49273b44",
   "metadata": {},
   "outputs": [],
   "source": [
    "# Data is missing at Random\n",
    "books.dropna(axis=0,inplace=True)"
   ]
  },
  {
   "cell_type": "code",
   "execution_count": 21,
   "id": "2b841d3f",
   "metadata": {},
   "outputs": [],
   "source": [
    "books[\"Year-Of-Publication\"]=books[\"Year-Of-Publication\"].astype(int)"
   ]
  },
  {
   "cell_type": "code",
   "execution_count": 22,
   "id": "ae835a5a",
   "metadata": {},
   "outputs": [
    {
     "data": {
      "text/plain": [
       "ISBN                   0\n",
       "Book-Title             0\n",
       "Book-Author            0\n",
       "Year-Of-Publication    0\n",
       "Publisher              0\n",
       "Image-URL-S            0\n",
       "Image-URL-M            0\n",
       "Image-URL-L            0\n",
       "dtype: int64"
      ]
     },
     "execution_count": 22,
     "metadata": {},
     "output_type": "execute_result"
    }
   ],
   "source": [
    "books.isna().sum()"
   ]
  },
  {
   "cell_type": "markdown",
   "id": "0a185e51",
   "metadata": {},
   "source": [
    "# Detecting Te Duplicates"
   ]
  },
  {
   "cell_type": "code",
   "execution_count": 23,
   "id": "6debf97f",
   "metadata": {},
   "outputs": [
    {
     "data": {
      "text/plain": [
       "0"
      ]
     },
     "execution_count": 23,
     "metadata": {},
     "output_type": "execute_result"
    }
   ],
   "source": [
    "books.duplicated().sum()"
   ]
  },
  {
   "cell_type": "code",
   "execution_count": 24,
   "id": "e8fb39ba",
   "metadata": {},
   "outputs": [
    {
     "data": {
      "text/plain": [
       "0"
      ]
     },
     "execution_count": 24,
     "metadata": {},
     "output_type": "execute_result"
    }
   ],
   "source": [
    "ratings.duplicated().sum()"
   ]
  },
  {
   "cell_type": "code",
   "execution_count": 25,
   "id": "3ee0d771",
   "metadata": {},
   "outputs": [
    {
     "data": {
      "text/plain": [
       "0"
      ]
     },
     "execution_count": 25,
     "metadata": {},
     "output_type": "execute_result"
    }
   ],
   "source": [
    "users.duplicated().sum()"
   ]
  },
  {
   "cell_type": "markdown",
   "id": "055e0009",
   "metadata": {},
   "source": [
    "# We can see that there are no duplicate data points."
   ]
  },
  {
   "cell_type": "code",
   "execution_count": 26,
   "id": "96f2cf0f",
   "metadata": {},
   "outputs": [
    {
     "data": {
      "text/plain": [
       "Book-Rating\n",
       "0     716109\n",
       "1       1770\n",
       "2       2759\n",
       "3       5996\n",
       "4       8904\n",
       "5      50974\n",
       "6      36924\n",
       "7      76457\n",
       "8     103736\n",
       "9      67541\n",
       "10     78610\n",
       "Name: count, dtype: int64"
      ]
     },
     "execution_count": 26,
     "metadata": {},
     "output_type": "execute_result"
    }
   ],
   "source": [
    "ratings[\"Book-Rating\"].value_counts().sort_index(ascending=True)"
   ]
  },
  {
   "cell_type": "code",
   "execution_count": 27,
   "id": "5912a3e5",
   "metadata": {},
   "outputs": [
    {
     "data": {
      "text/plain": [
       "Year-Of-Publication\n",
       "2050       2\n",
       "2038       1\n",
       "2037       1\n",
       "2030       7\n",
       "2026       1\n",
       "        ... \n",
       "1897       1\n",
       "1806       1\n",
       "1378       1\n",
       "1376       1\n",
       "0       4618\n",
       "Name: count, Length: 116, dtype: int64"
      ]
     },
     "execution_count": 27,
     "metadata": {},
     "output_type": "execute_result"
    }
   ],
   "source": [
    "books[\"Year-Of-Publication\"].value_counts().sort_index(ascending=False)"
   ]
  },
  {
   "cell_type": "markdown",
   "id": "b01d9db6",
   "metadata": {},
   "source": [
    "#Outlier Detection"
   ]
  },
  {
   "cell_type": "code",
   "execution_count": 29,
   "id": "5d1cbbe5",
   "metadata": {
    "scrolled": true
   },
   "outputs": [
    {
     "data": {
      "text/plain": [
       "Year-Of-Publication\n",
       "0       4618\n",
       "1376       1\n",
       "1378       1\n",
       "1806       1\n",
       "1897       1\n",
       "1900       3\n",
       "1901       7\n",
       "1902       2\n",
       "1904       1\n",
       "1906       1\n",
       "1908       1\n",
       "1909       2\n",
       "1910       1\n",
       "1911      19\n",
       "1914       1\n",
       "1917       1\n",
       "1919       1\n",
       "1920      33\n",
       "1921       2\n",
       "1922       2\n",
       "1923      11\n",
       "1924       2\n",
       "1925       2\n",
       "1926       2\n",
       "1927       2\n",
       "1928       2\n",
       "1929       7\n",
       "1930      13\n",
       "1931       3\n",
       "Name: count, dtype: int64"
      ]
     },
     "execution_count": 29,
     "metadata": {},
     "output_type": "execute_result"
    }
   ],
   "source": [
    "books[\"Year-Of-Publication\"].value_counts()[books[\"Year-Of-Publication\"].value_counts().index<(pd.Series(books[\"Year-Of-Publication\"].value_counts().index).quantile(0.25))].sort_index()"
   ]
  },
  {
   "cell_type": "code",
   "execution_count": 30,
   "id": "8c5adabf",
   "metadata": {},
   "outputs": [
    {
     "data": {
      "text/plain": [
       "<Axes: xlabel='Year-Of-Publication', ylabel='Count'>"
      ]
     },
     "execution_count": 30,
     "metadata": {},
     "output_type": "execute_result"
    },
    {
     "data": {
      "image/png": "[encoded data removed]",
      "text/plain": [
       "<Figure size 640x480 with 1 Axes>"
      ]
     },
     "metadata": {},
     "output_type": "display_data"
    }
   ],
   "source": [
    "sns.histplot(pd.Series(books[\"Year-Of-Publication\"].value_counts().index))"
   ]
  },
  {
   "cell_type": "markdown",
   "id": "bf51ba11",
   "metadata": {},
   "source": [
    "#Therefore dropping these outliers i.e. using a imputer "
   ]
  },
  {
   "cell_type": "code",
   "execution_count": 32,
   "id": "7e0c52df",
   "metadata": {
    "scrolled": true
   },
   "outputs": [],
   "source": [
    "books[\"Year-Of-Publication\"].replace({0:np.NaN},inplace=True)"
   ]
  },
  {
   "cell_type": "code",
   "execution_count": 33,
   "id": "0d4a3f83",
   "metadata": {},
   "outputs": [],
   "source": [
    "books.loc[books[\"Year-Of-Publication\"].isna(),\"Year-Of-Publication\"]=books[\"Year-Of-Publication\"].dropna().sample(n=books[\"Year-Of-Publication\"].isna().sum()).values"
   ]
  },
  {
   "cell_type": "code",
   "execution_count": 34,
   "id": "ba9d601c",
   "metadata": {},
   "outputs": [
    {
     "data": {
      "text/plain": [
       "0"
      ]
     },
     "execution_count": 34,
     "metadata": {},
     "output_type": "execute_result"
    }
   ],
   "source": [
    "books[\"Year-Of-Publication\"].isna().sum()"
   ]
  },
  {
   "cell_type": "code",
   "execution_count": 35,
   "id": "7a058dab",
   "metadata": {},
   "outputs": [],
   "source": [
    "books[\"Year-Of-Publication\"]=books[\"Year-Of-Publication\"].astype(int)"
   ]
  },
  {
   "cell_type": "code",
   "execution_count": 36,
   "id": "53e346f6",
   "metadata": {},
   "outputs": [
    {
     "data": {
      "text/plain": [
       "<Axes: xlabel='Year-Of-Publication', ylabel='Count'>"
      ]
     },
     "execution_count": 36,
     "metadata": {},
     "output_type": "execute_result"
    },
    {
     "data": {
      "image/png": "[encoded data removed]",
      "text/plain": [
       "<Figure size 640x480 with 1 Axes>"
      ]
     },
     "metadata": {},
     "output_type": "display_data"
    }
   ],
   "source": [
    "sns.histplot(pd.Series(books[\"Year-Of-Publication\"].value_counts().index))"
   ]
  },
  {
   "cell_type": "markdown",
   "id": "22b40cb3",
   "metadata": {},
   "source": [
    "# Here I had done  Random imputation to replace the outliers."
   ]
  },
  {
   "cell_type": "markdown",
   "id": "f12fa197",
   "metadata": {},
   "source": [
    "# POPULARITY BASED RECOMMENDATION"
   ]
  },
  {
   "cell_type": "code",
   "execution_count": null,
   "id": "097ecbae",
   "metadata": {
    "scrolled": true
   },
   "outputs": [],
   "source": [
    "ratings_with_name=ratings.merge(books,on=\"ISBN\")"
   ]
  },
  {
   "cell_type": "code",
   "execution_count": null,
   "id": "25766534",
   "metadata": {},
   "outputs": [],
   "source": [
    "No_rating_df = ratings_with_name.groupby('Book-Title').count()['Book-Rating'].reset_index()\n",
    "No_rating_df.rename(columns={'Book-Rating':'num_ratings'},inplace=True)\n",
    "No_rating_df.sample(n=2)"
   ]
  },
  {
   "cell_type": "code",
   "execution_count": null,
   "id": "9ee38648",
   "metadata": {},
   "outputs": [],
   "source": [
    "mean_rating_df = ratings_with_name.groupby('Book-Title').mean()['Book-Rating'].reset_index()\n",
    "mean_rating_df.rename(columns={'Book-Rating':'avg_rating'},inplace=True)\n",
    "mean_rating_df.sample(n=2)"
   ]
  },
  {
   "cell_type": "code",
   "execution_count": null,
   "id": "9425e369",
   "metadata": {},
   "outputs": [],
   "source": [
    "lst=np.array(No_rating_df.sort_values(by='num_ratings',ascending=False)['num_ratings'].index)[0:10]"
   ]
  },
  {
   "cell_type": "code",
   "execution_count": null,
   "id": "7da98fb7",
   "metadata": {},
   "outputs": [],
   "source": [
    "plt.barh(No_rating_df.loc[lst,'Book-Title'],No_rating_df.loc[lst,\"num_ratings\"])"
   ]
  },
  {
   "cell_type": "code",
   "execution_count": null,
   "id": "7ebb128e",
   "metadata": {},
   "outputs": [],
   "source": [
    "lst_1=np.array(mean_rating_df.sort_values(by='avg_rating',ascending=False)['avg_rating'].index)[0:10]"
   ]
  },
  {
   "cell_type": "code",
   "execution_count": null,
   "id": "bdff0248",
   "metadata": {},
   "outputs": [],
   "source": [
    "plt.barh(mean_rating_df.loc[lst_1,'Book-Title'],mean_rating_df.loc[lst_1,\"avg_rating\"])"
   ]
  },
  {
   "cell_type": "code",
   "execution_count": null,
   "id": "029fae63",
   "metadata": {},
   "outputs": [],
   "source": [
    "merged_df_popularity=No_rating_df.merge(mean_rating_df,on='Book-Title')"
   ]
  },
  {
   "cell_type": "code",
   "execution_count": null,
   "id": "d3d4db97",
   "metadata": {
    "scrolled": true
   },
   "outputs": [],
   "source": [
    "def find_recommendations():\n",
    "    mi=0.9991\n",
    "    ma=0\n",
    "    for i in range(6):\n",
    "        mi=np.round(mi,4)\n",
    "        print(\"Ratings = {} \\nwhere quantile value = {}\".format(merged_df_popularity[\"num_ratings\"].quantile(mi),mi))\n",
    "        no_of_books=len(merged_df_popularity[merged_df_popularity[\"num_ratings\"]>=merged_df_popularity[\"num_ratings\"].quantile(mi)])\n",
    "        print(\"Number  of Popular recommendations = {}\".format(no_of_books))\n",
    "        print(\"\\n\")\n",
    "        if(no_of_books>=100):\n",
    "            ma=mi     \n",
    "        mi+=0.0001\n",
    "    print(\"ma = {}\".format(ma))\n",
    "    ma+=0.00009\n",
    "    print(\"\\n\")\n",
    "    ans=0\n",
    "    n_recommendations=0\n",
    "    rating_val=0\n",
    "    for i in range(9):\n",
    "        ma=np.round(ma,5)\n",
    "        print(\"Ratings = {} \\nwhere quantile value = {}\".format(merged_df_popularity[\"num_ratings\"].quantile(ma),ma))\n",
    "        no_of_recommendations=len(merged_df_popularity[merged_df_popularity[\"num_ratings\"]>=int(merged_df_popularity[\"num_ratings\"].quantile(ma))])\n",
    "        print(\"Number  of Popular recommendations = {}\".format(no_of_recommendations))\n",
    "        if(no_of_recommendations<=100):\n",
    "            n_recommendations=no_of_recommendations\n",
    "            rating_val=int(merged_df_popularity[\"num_ratings\"].quantile(ma))\n",
    "            ans=ma\n",
    "        print(\"\\n\")\n",
    "        ma-=0.00001\n",
    "        \n",
    "    return ans,rating_val,n_recommendations    "
   ]
  },
  {
   "cell_type": "code",
   "execution_count": null,
   "id": "ab427cab",
   "metadata": {
    "scrolled": true
   },
   "outputs": [],
   "source": [
    "percentile_val,rating,no_of_recommendations=find_recommendations()"
   ]
  },
  {
   "cell_type": "code",
   "execution_count": null,
   "id": "999fcc20",
   "metadata": {},
   "outputs": [],
   "source": [
    "rating#==int(merged_df_popularity[\"num_ratings\"].quantile(percentile_val))"
   ]
  },
  {
   "cell_type": "code",
   "execution_count": null,
   "id": "811b56d1",
   "metadata": {
    "scrolled": true
   },
   "outputs": [],
   "source": [
    "tem=merged_df_popularity[merged_df_popularity[\"num_ratings\"]>=rating].sort_values(by=['avg_rating','num_ratings'],ascending=False)"
   ]
  },
  {
   "cell_type": "code",
   "execution_count": null,
   "id": "6ff5b0a6",
   "metadata": {},
   "outputs": [],
   "source": [
    "tem.merge(books,on='Book-Title').drop_duplicates('Book-Title')[['Book-Title','Book-Author','num_ratings','avg_rating','Image-URL-M']]"
   ]
  },
  {
   "cell_type": "code",
   "execution_count": null,
   "id": "d555fbcd",
   "metadata": {},
   "outputs": [],
   "source": [
    "popular_df=tem.merge(books,on='Book-Title').drop_duplicates('Book-Title')[['Book-Title','Book-Author','num_ratings','avg_rating','Image-URL-M']]"
   ]
  },
  {
   "cell_type": "markdown",
   "id": "95955110",
   "metadata": {},
   "source": []
  },
  {
   "cell_type": "markdown",
   "id": "20aa3742",
   "metadata": {},
   "source": [
    "#COLLABORATIVE FILTERING"
   ]
  },
  {
   "cell_type": "code",
   "execution_count": null,
   "id": "0afd988d",
   "metadata": {},
   "outputs": [],
   "source": [
    "q_val=0.988\n",
    "dictionary={}\n",
    "for i in range(10):\n",
    "    num_users=int(ratings_with_name.groupby('User-ID').count().rename(columns={'Book-Rating':\"count\"})['count'].quantile(q_val))\n",
    "    if(((num_users>=150)&(num_users<=250))):\n",
    "        dictionary[q_val]=num_users\n",
    "    q_val+=0.001"
   ]
  },
  {
   "cell_type": "code",
   "execution_count": null,
   "id": "fae77e62",
   "metadata": {},
   "outputs": [],
   "source": [
    "lst_3=[]\n",
    "for i,j in dictionary.items():\n",
    "    t=ratings_with_name.groupby('User-ID').count()['Book-Rating']>=j\n",
    "    #print(j)\n",
    "    #print(len(t[t]))\n",
    "    lst_3.append(len(t[t]))\n",
    "print(lst_3)"
   ]
  },
  {
   "cell_type": "code",
   "execution_count": null,
   "id": "5675189e",
   "metadata": {},
   "outputs": [],
   "source": [
    "np.ceil(np.mean(list(dictionary.values())))"
   ]
  },
  {
   "cell_type": "code",
   "execution_count": null,
   "id": "69735d87",
   "metadata": {},
   "outputs": [],
   "source": [
    "def good_readers(df,review_count):\n",
    "    x=df.groupby('User-ID').count().rename(columns={'Book-Rating':'count'})['count']>=review_count\n",
    "    print(\"Number of good book readers i.e who atleast gave {} reviews = {}\".format(review_count,len(x[x])))\n",
    "    return x[x].index"
   ]
  },
  {
   "cell_type": "code",
   "execution_count": null,
   "id": "db97edf3",
   "metadata": {},
   "outputs": [],
   "source": [
    "x=good_readers(ratings_with_name,193)"
   ]
  },
  {
   "cell_type": "code",
   "execution_count": null,
   "id": "8b8074f8",
   "metadata": {},
   "outputs": [],
   "source": [
    "x_1=good_readers(ratings_with_name,197)"
   ]
  },
  {
   "cell_type": "code",
   "execution_count": null,
   "id": "7d5d1d30",
   "metadata": {},
   "outputs": [],
   "source": [
    "x_2=good_readers(ratings_with_name,200)"
   ]
  },
  {
   "cell_type": "code",
   "execution_count": null,
   "id": "a86300fe",
   "metadata": {},
   "outputs": [],
   "source": [
    "filtered_rating=ratings_with_name[ratings_with_name['User-ID'].isin(x_2)]"
   ]
  },
  {
   "cell_type": "code",
   "execution_count": null,
   "id": "a82ce6a6",
   "metadata": {},
   "outputs": [],
   "source": [
    "filtered_rating_1=ratings_with_name[ratings_with_name['User-ID'].isin(x_1)]"
   ]
  },
  {
   "cell_type": "code",
   "execution_count": null,
   "id": "6b84391b",
   "metadata": {},
   "outputs": [],
   "source": [
    "filtered_rating_2=ratings_with_name[ratings_with_name['User-ID'].isin(x)]"
   ]
  },
  {
   "cell_type": "code",
   "execution_count": null,
   "id": "bf39e835",
   "metadata": {},
   "outputs": [],
   "source": [
    "def min_reviews_per_book(df):\n",
    "    score_dict={}\n",
    "    s_val=0.995\n",
    "    for i in range(10): # Minimum No Of Ratings Per Book\n",
    "        s_val=np.round(s_val,4)\n",
    "        num=df.groupby('Book-Title').count().rename(columns={'Book-Rating':\"count\"})['count'].quantile(s_val)\n",
    "        score_dict[s_val]=np.ceil(num)\n",
    "        s_val+=0.0001\n",
    "    score_lst=[]\n",
    "    for i,j in score_dict.items(): #Number Of Such Books\n",
    "        y=df.groupby('Book-Title').count().rename(columns={'Book-Rating':\"count\"})['count']>j\n",
    "        #print(j)\n",
    "        #print(len(y[y]))\n",
    "        score_lst.append(len(y[y]))\n",
    "    print(score_lst)\n",
    "    print(\"\\n\")\n",
    "    print(\"Average Number of Books =\",end=\" \")\n",
    "    print(np.mean(score_lst))\n",
    "    return score_dict,score_lst"
   ]
  },
  {
   "cell_type": "code",
   "execution_count": null,
   "id": "8308bdb5",
   "metadata": {},
   "outputs": [],
   "source": [
    "d,l=min_reviews_per_book(filtered_rating_2) # ------->[User-Id]= x\n",
    "print(d)\n",
    "print(\"\\n\")\n",
    "val=np.ceil(np.mean(list(d.values()))) #\n",
    "print(\"Minimum Number of reviews per Book = {}\".format(val))"
   ]
  },
  {
   "cell_type": "code",
   "execution_count": null,
   "id": "b3c23d89",
   "metadata": {},
   "outputs": [],
   "source": [
    "#d_1,l_1=min_reviews_per_book(filtered_rating_1)\n",
    "#print(d_1)\n",
    "#print(\"Minimum Number of reviews per Book = {}\".format(np.ceil(np.mean(list(d_1.values())))))\n",
    "\n",
    "#[747, 747, 747, 714, 714, 693, 668, 668, 643, 617]\n",
    "\n",
    "#Average Number of Books = 695.8\n",
    "#{0.995: 48.0, 0.9951: 48.0, 0.9952: 48.0, 0.9953: 49.0, 0.9954: 49.0, 0.9955: 50.0, 0.9956: 51.0, 0.9957: 51.0, 0.9958: 52.0, 0.9959: 53.0}\n",
    "#Minimum Number of reviews per Book = 50.0"
   ]
  },
  {
   "cell_type": "code",
   "execution_count": null,
   "id": "953426ff",
   "metadata": {},
   "outputs": [],
   "source": [
    "#d_2,l_2=min_reviews_per_book(filtered_rating)\n",
    "#print(d_2)\n",
    "#print(\"Minimum Number of reviews per Book = {}\".format(np.ceil(np.mean(list(d_2.values())))))\n",
    "\n",
    "#[773, 736, 736, 707, 707, 683, 683, 660, 637, 637]\n",
    "\n",
    "#Average Number of Books = 695.9\n",
    "#{0.995: 47.0, 0.9951: 48.0, 0.9952: 48.0, 0.9953: 49.0, 0.9954: 49.0, 0.9955: 50.0, 0.9956: 50.0, 0.9957: 51.0, 0.9958: 52.0, 0.9959: 52.0}\n",
    "#Minimum Number of reviews per Book = 50.0"
   ]
  },
  {
   "cell_type": "code",
   "execution_count": null,
   "id": "a8400ebe",
   "metadata": {},
   "outputs": [],
   "source": [
    "def famous_books_list(df,value):\n",
    "    y=df.groupby('Book-Title').count().rename(columns={'Book-Rating':'count'})['count']>value\n",
    "    print(\"Number Of Books having Atleast {} Reviews per Book = {} \".format(int(value),len(y[y])))\n",
    "    return y[y].index"
   ]
  },
  {
   "cell_type": "code",
   "execution_count": null,
   "id": "3eb8db98",
   "metadata": {},
   "outputs": [],
   "source": [
    "famous_books=famous_books_list(filtered_rating_2,val)"
   ]
  },
  {
   "cell_type": "code",
   "execution_count": null,
   "id": "41d5ee3a",
   "metadata": {},
   "outputs": [],
   "source": [
    "final_ratings=filtered_rating_2[filtered_rating_2['Book-Title'].isin(famous_books)]"
   ]
  },
  {
   "cell_type": "code",
   "execution_count": null,
   "id": "56b46528",
   "metadata": {},
   "outputs": [],
   "source": [
    "final_ratings"
   ]
  },
  {
   "cell_type": "code",
   "execution_count": null,
   "id": "60c74533",
   "metadata": {},
   "outputs": [],
   "source": [
    "pt=final_ratings.pivot_table(index='Book-Title',columns='User-ID',values='Book-Rating')"
   ]
  },
  {
   "cell_type": "code",
   "execution_count": null,
   "id": "cf4204ae",
   "metadata": {},
   "outputs": [],
   "source": [
    "pt.fillna(0,inplace=True)"
   ]
  },
  {
   "cell_type": "code",
   "execution_count": null,
   "id": "781ef4e9",
   "metadata": {},
   "outputs": [],
   "source": [
    "pt"
   ]
  },
  {
   "cell_type": "code",
   "execution_count": null,
   "id": "789419bd",
   "metadata": {},
   "outputs": [],
   "source": [
    "from sklearn.metrics.pairwise import cosine_similarity"
   ]
  },
  {
   "cell_type": "code",
   "execution_count": null,
   "id": "1b4e424f",
   "metadata": {},
   "outputs": [],
   "source": [
    "similarity_scores=cosine_similarity(pt)"
   ]
  },
  {
   "cell_type": "code",
   "execution_count": null,
   "id": "95c2ee0f",
   "metadata": {},
   "outputs": [],
   "source": [
    "similarity_scores.shape"
   ]
  },
  {
   "cell_type": "code",
   "execution_count": null,
   "id": "938963f9",
   "metadata": {},
   "outputs": [],
   "source": [
    "def recommend_book(book_name):\n",
    "    book_index=np.where(pt.index==book_name)[0][0] #------------>returning a 2-D array\n",
    "    distances=similarity_scores[book_index]\n",
    "    similar_books=sorted(list(enumerate(distances)),reverse=True,key=lambda x:x[1])[1:10]\n",
    "    \n",
    "    data=[]\n",
    "    for i in similar_books:\n",
    "        item=[]\n",
    "        temp_df=books[books['Book-Title']==pt.index[i[0]]]\n",
    "        item.extend(list(temp_df.drop_duplicates('Book-Title')[\"Book-Title\"].values)) \n",
    "        item.extend(list(temp_df.drop_duplicates('Book-Title')[\"Book-Author\"].values))\n",
    "        item.extend(list(temp_df.drop_duplicates('Book-Title')[\"Image-URL-M\"].values))\n",
    "        \n",
    "        data.append(item)\n",
    "        \n",
    "    return data"
   ]
  },
  {
   "cell_type": "code",
   "execution_count": null,
   "id": "645ab96b",
   "metadata": {},
   "outputs": [],
   "source": [
    "recommend_book(\"1984\")"
   ]
  },
  {
   "cell_type": "code",
   "execution_count": null,
   "id": "96f2aacf",
   "metadata": {},
   "outputs": [],
   "source": [
    "import pickle\n",
    "pickle.dump(popular_df,open('popular.pkl','wb'))"
   ]
  },
  {
   "cell_type": "code",
   "execution_count": null,
   "id": "a95fe8a1",
   "metadata": {},
   "outputs": [],
   "source": [
    "pickle.dump(pt,open('pt.pkl','wb'))"
   ]
  },
  {
   "cell_type": "code",
   "execution_count": null,
   "id": "b219a618",
   "metadata": {},
   "outputs": [],
   "source": [
    "pickle.dump(books,open('books.pkl','wb'))"
   ]
  },
  {
   "cell_type": "code",
   "execution_count": null,
   "id": "41010b95",
   "metadata": {},
   "outputs": [],
   "source": [
    "pickle.dump(similarity_scores,open('similarity_scores.pkl','wb'))"
   ]
  },
  {
   "cell_type": "code",
   "execution_count": null,
   "id": "41a0c5ad",
   "metadata": {},
   "outputs": [],
   "source": [
    "books['Image-URL-M'] = books['Image-URL-M'].str.replace('http://', 'https://') #( books is the dataframe name)"
   ]
  },
  {
   "cell_type": "markdown",
   "id": "6df50880",
   "metadata": {},
   "source": [
    "# COLLABORATIVE FILTERING USING CLUSTERING"
   ]
  },
  {
   "cell_type": "code",
   "execution_count": null,
   "id": "8b2b0803",
   "metadata": {},
   "outputs": [],
   "source": [
    "#import pickle"
   ]
  },
  {
   "cell_type": "code",
   "execution_count": null,
   "id": "6cd3d260",
   "metadata": {},
   "outputs": [],
   "source": [
    "#new_pt=pickle.load(open('pt.pkl','rb'))"
   ]
  },
  {
   "cell_type": "code",
   "execution_count": null,
   "id": "ed9477af",
   "metadata": {},
   "outputs": [],
   "source": [
    "#from scipy.sparse import csr_matrix"
   ]
  },
  {
   "cell_type": "code",
   "execution_count": null,
   "id": "eb3f5913",
   "metadata": {},
   "outputs": [],
   "source": [
    "#book_sparse=csr_matrix(new_pt)"
   ]
  },
  {
   "cell_type": "code",
   "execution_count": null,
   "id": "94d11f16",
   "metadata": {},
   "outputs": [],
   "source": [
    "#book_sparse"
   ]
  },
  {
   "cell_type": "code",
   "execution_count": null,
   "id": "ce86fea7",
   "metadata": {},
   "outputs": [],
   "source": [
    "#from sklearn.neighbors import NearestNeighbors"
   ]
  },
  {
   "cell_type": "code",
   "execution_count": null,
   "id": "c94a1140",
   "metadata": {},
   "outputs": [],
   "source": [
    "#tt=[] #cannot use tree with sparse input: using brute force\n",
    "#n_array=np.array(np.arange(3,11,1))\n",
    "#for i in n_array:\n",
    "#    model=NearestNeighbors(algorithm='brute',n_neighbors=i)\n",
    "#    model.fit(book_sparse)\n",
    "#   distances,suggestions=model.kneighbors(new_pt.iloc[237,:].values.reshape(1,-1),n_neighbors=i)\n",
    "#    tt.append(distances.mean())\n",
    "#    print(\"{} neighbors = {}\".format(i,distances.mean()))"
   ]
  },
  {
   "cell_type": "code",
   "execution_count": null,
   "id": "9a6faac2",
   "metadata": {},
   "outputs": [],
   "source": [
    "#np.mean(tt) #---------> 6 neighbors is performing better."
   ]
  },
  {
   "cell_type": "code",
   "execution_count": null,
   "id": "9dd9e929",
   "metadata": {},
   "outputs": [],
   "source": [
    "#distances,suggestions=model.kneighbors(new_pt.iloc[237,:].values.reshape(1,-1),n_neighbors=6)"
   ]
  },
  {
   "cell_type": "code",
   "execution_count": null,
   "id": "0c2ad778",
   "metadata": {},
   "outputs": [],
   "source": [
    "#distances"
   ]
  },
  {
   "cell_type": "code",
   "execution_count": null,
   "id": "862f3b06",
   "metadata": {},
   "outputs": [],
   "source": [
    "#suggestions"
   ]
  },
  {
   "cell_type": "code",
   "execution_count": null,
   "id": "1e663c06",
   "metadata": {},
   "outputs": [],
   "source": [
    "#np.where(new_pt.index=='Deck the Halls (Holiday Classics)')[0][0]"
   ]
  },
  {
   "cell_type": "code",
   "execution_count": null,
   "id": "8b7a7329",
   "metadata": {},
   "outputs": [],
   "source": [
    "#def recommend_by_clustering(book_name): #suggestions is 2-D array ----->suggestions[0] gives the array of indices\n",
    "#    book_id=np.where(new_pt.index==book_name)[0][0]\n",
    "#    distances,suggestions=model.kneighbors(new_pt.iloc[book_id,:].values.reshape(1,-1),n_neighbors=7)\n",
    "#    lst=[]\n",
    "#    for i in suggestions[0]:\n",
    "#        #print(new_pt.index[i])\n",
    "#        lst.append(new_pt.index[i])\n",
    "#    return lst"
   ]
  },
  {
   "cell_type": "code",
   "execution_count": null,
   "id": "0953fdf8",
   "metadata": {},
   "outputs": [],
   "source": [
    "#recommend_by_clustering('Holes (Yearling Newbery)')"
   ]
  },
  {
   "cell_type": "code",
   "execution_count": null,
   "id": "1e9804cf",
   "metadata": {},
   "outputs": [],
   "source": []
  },
  {
   "cell_type": "code",
   "execution_count": null,
   "id": "11143bc5",
   "metadata": {},
   "outputs": [],
   "source": []
  },
  {
   "cell_type": "code",
   "execution_count": null,
   "id": "621463f2",
   "metadata": {},
   "outputs": [],
   "source": []
  },
  {
   "cell_type": "code",
   "execution_count": null,
   "id": "f5348464",
   "metadata": {},
   "outputs": [],
   "source": []
  },
  {
   "cell_type": "code",
   "execution_count": null,
   "id": "16d0be67",
   "metadata": {},
   "outputs": [],
   "source": []
  },
  {
   "cell_type": "code",
   "execution_count": null,
   "id": "e3ecf382",
   "metadata": {},
   "outputs": [],
   "source": []
  },
  {
   "cell_type": "code",
   "execution_count": null,
   "id": "da4c63ec",
   "metadata": {},
   "outputs": [],
   "source": []
  },
  {
   "cell_type": "code",
   "execution_count": null,
   "id": "36e66cf4",
   "metadata": {},
   "outputs": [],
   "source": []
  },
  {
   "cell_type": "code",
   "execution_count": null,
   "id": "27f8ceff",
   "metadata": {},
   "outputs": [],
   "source": []
  },
  {
   "cell_type": "code",
   "execution_count": null,
   "id": "0ff0c451",
   "metadata": {},
   "outputs": [],
   "source": []
  },
  {
   "cell_type": "code",
   "execution_count": null,
   "id": "b685630a",
   "metadata": {},
   "outputs": [],
   "source": []
  }
 ],
 "metadata": {
  "kernelspec": {
   "display_name": "Python 3 (ipykernel)",
   "language": "python",
   "name": "python3"
  },
  "language_info": {
   "codemirror_mode": {
    "name": "ipython",
    "version": 3
   },
   "file_extension": ".py",
   "mimetype": "text/x-python",
   "name": "python",
   "nbconvert_exporter": "python",
   "pygments_lexer": "ipython3",
   "version": "3.8.0"
  }
 },
 "nbformat": 4,
 "nbformat_minor": 5
}
